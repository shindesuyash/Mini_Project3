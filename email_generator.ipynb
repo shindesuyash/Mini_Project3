{
 "cells": [
  {
   "cell_type": "code",
   "execution_count": 1,
   "id": "b3100bd1-9885-4e84-ac59-41dbb4f8e1cc",
   "metadata": {},
   "outputs": [],
   "source": [
    "from langchain_groq import ChatGroq"
   ]
  },
  {
   "cell_type": "code",
   "execution_count": null,
   "id": "6e5a54a7-9242-4da2-9a8e-f77186a4739d",
   "metadata": {},
   "outputs": [
    {
     "name": "stdout",
     "output_type": "stream",
     "text": [
      "The first person to land on the moon was Neil Armstrong. He stepped out of the lunar module Eagle and onto the moon's surface on July 20, 1969, during the Apollo 11 mission. Armstrong famously declared, \"That's one small step for man, one giant leap for mankind,\" as he became the first human to set foot on the moon.\n"
     ]
    }
   ],
   "source": [
    "llm = ChatGroq(\n",
    "    temperature=0, \n",
    "    groq_api_key='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', \n",
    "    model_name=\"llama-3.3-70b-versatile\"\n",
    ")\n",
    "response = llm.invoke(\"The first person to land on moon was ...\")\n",
    "print(response.content)"
   ]
  },
  {
   "cell_type": "code",
   "execution_count": 63,
   "id": "ead7ca36-7256-4d75-a539-793839ba326a",
   "metadata": {},
   "outputs": [
    {
     "name": "stdout",
     "output_type": "stream",
     "text": [
      "Apply for Software Engineer -III, ITC\n",
      "\n",
      "Search JobsSkip navigationSearch JobsNIKE, INC. JOBSContract JobsJoin The Talent CommunityLife @ NikeOverviewBenefitsBrandsOverviewJordanConverseTeamsOverviewAdministrative SupportAdvanced InnovationAir Manufacturing InnovationAviationCommunicationsCustomer ServiceDesignDigitalFacilitiesFinance & AccountingGovernment & Public AffairsHuman ResourcesInsights & AnalyticsLegalManufacturing & EngineeringMarketingMerchandisingPlanningPrivacyProcurementProduct Creation, Development & ManagementRetail CorporateRetail StoresSalesSocial & Community ImpactSports MarketingStrategic PlanningSupply Chain, Distribution & LogisticsSustainabilityTechnologyLocationsOverviewNike WHQNike New York HQEHQ: Hilversum, The NetherlandsELC: Laakdal, BelgiumGreater China HQDiversity, Equity & InclusionOverviewMilitary InclusionDisability InclusionIndigenous InclusionInternshipsTechnologySoftware Engineer -III, ITCKarnataka, IndiaBecome a Part of the NIKE, Inc. TeamNIKE, Inc. does more than outfit the world’s best athletes. It is a place to explore potential, obliterate boundaries and push out the edges of what can be. The company looks for people who can grow, think, dream and create. Its culture thrives by embracing diversity and rewarding imagination. The brand seeks achievers, leaders and visionaries. At NIKE, Inc. it’s about each person bringing skills and passion to a challenging and constantly evolving game.NIKE is a technology company. From our flagship website and five-star mobile apps to developing products, managing big data and providing leading edge engineering and systems support, our teams at NIKE Global Technology exist to revolutionize the future at the confluence of tech and sport. We invest and develop advances in technology and employ the most creative people in the world, and then give them the support to constantly innovate, iterate and serve consumers more directly and personally.  Our teams are innovative, diverse, multidisciplinary and collaborative, taking technology into the future and bringing the world with it.WHO YOU’LL WORK WITH You will be a part of the larger Global Technology organization working on Nike’s internal product creation tools and report to the team’s Engineering Manager.  You will work day-to-day with the a team of engineers, the team’s Product Manager and Principal Engineers in the organization on software projects to achieve Nike’s business objectives.  You will also engage with other Global Technology functions and teams on organizational and technical goals.  WHO WE ARE LOOKING FOR We’re looking for a Senior Software Engineer to solve complex software engineering problems supporting Nike’s pursuit of delivering state of the art tools to our product developers and broader creation community. The candidate needs to be highly collaborative with peers, productive in a fast-paced development environment and have depth of native cloud software engineering experience.  WHAT YOU’LL WORK ON  You will be part of a team of engineers building out tooling for our internal Innovation & Consumer Creation team members. We are investing in building modular, configurable and “API-First” capabilities which will be consumed by modern web applications build with the most recent SPA frameworks.  Bachelor’s degree in Computer Science or Engineering, Information Systems, or similar field or relevant professional experience in lieu of a degree 5+ years of hands-on industry software development experience. Experience with front-end frameworks like React, Angular, or Vue.js.  Experience with cloud architecture, modern DevOps, infrastructure as code, CI/CD and related tools. Experience with AWS products including Lambda, Step Functions, DynamoDB, Elasticsearch, s3 Modern testing methodologies and frameworks such as Mocha, Jasmine and Jest Strong understanding of architectural design patterns and computer-science fundamentals Experience with implementing and integrating AI, Machine Learning and related data solutions preferred. Hands-on experience implementing and supporting modern software architectural principles and patterns (REST, domain-driven design, microservices, etc) Excellent verbal and written communication skills Demonstrated ability to build and maintain relationships with multiple peers and cross-functional partnersNIKE, Inc. is a growth company that looks for team members to grow with it. Nike offers a generous total rewards package, casual work environment, a diverse and inclusive culture, and an electric atmosphere for professional development. No matter the location, or the role, every Nike employee shares one galvanizing mission: To bring inspiration and innovation to every athlete* in the world.NIKE, Inc. is committed to employing a diverse workforce. Qualified applicants will receive consideration without regard to race, color, religion, sex, national origin, age, sexual orientation, gender identity, gender expression, veteran status, or disability.How We HireAt NIKE, Inc. we promise to provide a premium, inclusive, compelling and authentic candidate experience. Delivering on this promise means we allow you to be at your best — and to do that, you need to understand how the hiring process works. Transparency is key.\n",
      "\n",
      "* This overview explains our hiring process for corporate roles. Note there may be different hiring steps involved for non-corporate roles.Start nowBenefitsWhether it’s transportation or financial health, we continually invest in our employees to help them achieve greatness — inside and outside of work. All who work here should be able to realize their full potential.Employee Assistance ProgramHolidaysMedical PlanPaid Time Off (PTO)Product DiscountsLearn moreFIND A STOREBECOME A MEMBERSIGN UP FOR EMAILSEND US FEEDBACKSTUDENT DISCOUNTSGET HELPGET HELPOrder StatusDeliveryReturnsPayment OptionsContact Us On Nike.com InquiriesContact Us On All Other InquiriesABOUT NIKEABOUT NIKENewsCareersInvestorsSustainabilityIndia© 2025 Nike, Inc. All Rights ReservedGuidesNike AdaptNike Air MaxNike FlyleatherNike PegasusNike Zoom FlyNike AirNike FlyEaseNike FreeNike ReactNike ZoomXNike Air Force 1Nike FlyknitNike JoyrideNike VaporflyTerms of SaleTerms of UseNike Privacy Policy\n"
     ]
    }
   ],
   "source": [
    "from langchain_community.document_loaders import WebBaseLoader\n",
    "\n",
    "loader = WebBaseLoader(\"https://jobs.nike.com/job/R-49969\")\n",
    "page_data = loader.load().pop().page_content\n",
    "print(page_data)"
   ]
  },
  {
   "cell_type": "code",
   "execution_count": 68,
   "id": "c330aaea-5c91-4759-9efd-27f14ae4a68e",
   "metadata": {},
   "outputs": [
    {
     "data": {
      "text/plain": [
       "str"
      ]
     },
     "execution_count": 68,
     "metadata": {},
     "output_type": "execute_result"
    }
   ],
   "source": [
    "from langchain_core.prompts import PromptTemplate\n",
    "\n",
    "prompt_extract = PromptTemplate.from_template(\n",
    "        \"\"\"\n",
    "        ### SCRAPED TEXT FROM WEBSITE:\n",
    "        {page_data}\n",
    "        ### INSTRUCTION:\n",
    "        The scraped text is from the career's page of a website.\n",
    "        Your job is to extract the job postings and return them in JSON format containing the \n",
    "        following keys: `role`, `experience`, `skills` and `description`.\n",
    "        Only return the valid JSON.\n",
    "        ### VALID JSON (NO PREAMBLE):    \n",
    "        \"\"\"\n",
    ")\n",
    "\n",
    "chain_extract = prompt_extract | llm \n",
    "res = chain_extract.invoke(input={'page_data':page_data})\n",
    "type(res.content)"
   ]
  },
  {
   "cell_type": "code",
   "execution_count": 69,
   "id": "1a124b97-5b60-41da-a2fb-910444a6f9e4",
   "metadata": {},
   "outputs": [
    {
     "data": {
      "text/plain": [
       "{'role': 'Software Engineer -III, ITC',\n",
       " 'experience': '5+ years of hands-on industry software development experience',\n",
       " 'skills': ['Front-end frameworks like React, Angular, or Vue.js',\n",
       "  'Cloud architecture, modern DevOps, infrastructure as code, CI/CD and related tools',\n",
       "  'AWS products including Lambda, Step Functions, DynamoDB, Elasticsearch, s3',\n",
       "  'Modern testing methodologies and frameworks such as Mocha, Jasmine and Jest',\n",
       "  'Architectural design patterns and computer-science fundamentals',\n",
       "  'Implementing and integrating AI, Machine Learning and related data solutions',\n",
       "  'Modern software architectural principles and patterns (REST, domain-driven design, microservices, etc)'],\n",
       " 'description': 'We’re looking for a Senior Software Engineer to solve complex software engineering problems supporting Nike’s pursuit of delivering state of the art tools to our product developers and broader creation community.'}"
      ]
     },
     "execution_count": 69,
     "metadata": {},
     "output_type": "execute_result"
    }
   ],
   "source": [
    "from langchain_core.output_parsers import JsonOutputParser\n",
    "\n",
    "json_parser = JsonOutputParser()\n",
    "json_res = json_parser.parse(res.content)\n",
    "json_res"
   ]
  },
  {
   "cell_type": "code",
   "execution_count": 70,
   "id": "aefdf899-4a09-425b-ad32-69e7ef653358",
   "metadata": {},
   "outputs": [
    {
     "data": {
      "text/plain": [
       "dict"
      ]
     },
     "execution_count": 70,
     "metadata": {},
     "output_type": "execute_result"
    }
   ],
   "source": [
    "type(json_res)"
   ]
  },
  {
   "cell_type": "code",
   "execution_count": 71,
   "id": "5de6e508-5000-4c9d-ac60-ffd6e0adfdb7",
   "metadata": {},
   "outputs": [
    {
     "data": {
      "text/html": [
       "<div>\n",
       "<style scoped>\n",
       "    .dataframe tbody tr th:only-of-type {\n",
       "        vertical-align: middle;\n",
       "    }\n",
       "\n",
       "    .dataframe tbody tr th {\n",
       "        vertical-align: top;\n",
       "    }\n",
       "\n",
       "    .dataframe thead th {\n",
       "        text-align: right;\n",
       "    }\n",
       "</style>\n",
       "<table border=\"1\" class=\"dataframe\">\n",
       "  <thead>\n",
       "    <tr style=\"text-align: right;\">\n",
       "      <th></th>\n",
       "      <th>Techstack</th>\n",
       "      <th>Links</th>\n",
       "    </tr>\n",
       "  </thead>\n",
       "  <tbody>\n",
       "    <tr>\n",
       "      <th>0</th>\n",
       "      <td>React, Node.js, MongoDB</td>\n",
       "      <td>https://example.com/react-portfolio</td>\n",
       "    </tr>\n",
       "    <tr>\n",
       "      <th>1</th>\n",
       "      <td>Angular,.NET, SQL Server</td>\n",
       "      <td>https://example.com/angular-portfolio</td>\n",
       "    </tr>\n",
       "    <tr>\n",
       "      <th>2</th>\n",
       "      <td>Vue.js, Ruby on Rails, PostgreSQL</td>\n",
       "      <td>https://example.com/vue-portfolio</td>\n",
       "    </tr>\n",
       "    <tr>\n",
       "      <th>3</th>\n",
       "      <td>Python, Django, MySQL</td>\n",
       "      <td>https://example.com/python-portfolio</td>\n",
       "    </tr>\n",
       "    <tr>\n",
       "      <th>4</th>\n",
       "      <td>Java, Spring Boot, Oracle</td>\n",
       "      <td>https://example.com/java-portfolio</td>\n",
       "    </tr>\n",
       "    <tr>\n",
       "      <th>5</th>\n",
       "      <td>Flutter, Firebase, GraphQL</td>\n",
       "      <td>https://example.com/flutter-portfolio</td>\n",
       "    </tr>\n",
       "    <tr>\n",
       "      <th>6</th>\n",
       "      <td>WordPress, PHP, MySQL</td>\n",
       "      <td>https://example.com/wordpress-portfolio</td>\n",
       "    </tr>\n",
       "    <tr>\n",
       "      <th>7</th>\n",
       "      <td>Magento, PHP, MySQL</td>\n",
       "      <td>https://example.com/magento-portfolio</td>\n",
       "    </tr>\n",
       "    <tr>\n",
       "      <th>8</th>\n",
       "      <td>React Native, Node.js, MongoDB</td>\n",
       "      <td>https://example.com/react-native-portfolio</td>\n",
       "    </tr>\n",
       "    <tr>\n",
       "      <th>9</th>\n",
       "      <td>iOS, Swift, Core Data</td>\n",
       "      <td>https://example.com/ios-portfolio</td>\n",
       "    </tr>\n",
       "    <tr>\n",
       "      <th>10</th>\n",
       "      <td>Android, Java, Room Persistence</td>\n",
       "      <td>https://example.com/android-portfolio</td>\n",
       "    </tr>\n",
       "    <tr>\n",
       "      <th>11</th>\n",
       "      <td>Kotlin, Android, Firebase</td>\n",
       "      <td>https://example.com/kotlin-android-portfolio</td>\n",
       "    </tr>\n",
       "    <tr>\n",
       "      <th>12</th>\n",
       "      <td>Android TV, Kotlin, Android NDK</td>\n",
       "      <td>https://example.com/android-tv-portfolio</td>\n",
       "    </tr>\n",
       "    <tr>\n",
       "      <th>13</th>\n",
       "      <td>iOS, Swift, ARKit</td>\n",
       "      <td>https://example.com/ios-ar-portfolio</td>\n",
       "    </tr>\n",
       "    <tr>\n",
       "      <th>14</th>\n",
       "      <td>Cross-platform, Xamarin, Azure</td>\n",
       "      <td>https://example.com/xamarin-portfolio</td>\n",
       "    </tr>\n",
       "    <tr>\n",
       "      <th>15</th>\n",
       "      <td>Backend, Kotlin, Spring Boot</td>\n",
       "      <td>https://example.com/kotlin-backend-portfolio</td>\n",
       "    </tr>\n",
       "    <tr>\n",
       "      <th>16</th>\n",
       "      <td>Frontend, TypeScript, Angular</td>\n",
       "      <td>https://example.com/typescript-frontend-portfolio</td>\n",
       "    </tr>\n",
       "    <tr>\n",
       "      <th>17</th>\n",
       "      <td>Full-stack, JavaScript, Express.js</td>\n",
       "      <td>https://example.com/full-stack-js-portfolio</td>\n",
       "    </tr>\n",
       "    <tr>\n",
       "      <th>18</th>\n",
       "      <td>Machine Learning, Python, TensorFlow</td>\n",
       "      <td>https://example.com/ml-python-portfolio</td>\n",
       "    </tr>\n",
       "    <tr>\n",
       "      <th>19</th>\n",
       "      <td>DevOps, Jenkins, Docker</td>\n",
       "      <td>https://example.com/devops-portfolio</td>\n",
       "    </tr>\n",
       "  </tbody>\n",
       "</table>\n",
       "</div>"
      ],
      "text/plain": [
       "                               Techstack  \\\n",
       "0                React, Node.js, MongoDB   \n",
       "1               Angular,.NET, SQL Server   \n",
       "2      Vue.js, Ruby on Rails, PostgreSQL   \n",
       "3                  Python, Django, MySQL   \n",
       "4              Java, Spring Boot, Oracle   \n",
       "5             Flutter, Firebase, GraphQL   \n",
       "6                  WordPress, PHP, MySQL   \n",
       "7                    Magento, PHP, MySQL   \n",
       "8         React Native, Node.js, MongoDB   \n",
       "9                  iOS, Swift, Core Data   \n",
       "10       Android, Java, Room Persistence   \n",
       "11             Kotlin, Android, Firebase   \n",
       "12       Android TV, Kotlin, Android NDK   \n",
       "13                     iOS, Swift, ARKit   \n",
       "14        Cross-platform, Xamarin, Azure   \n",
       "15          Backend, Kotlin, Spring Boot   \n",
       "16         Frontend, TypeScript, Angular   \n",
       "17    Full-stack, JavaScript, Express.js   \n",
       "18  Machine Learning, Python, TensorFlow   \n",
       "19               DevOps, Jenkins, Docker   \n",
       "\n",
       "                                                Links  \n",
       "0                 https://example.com/react-portfolio  \n",
       "1               https://example.com/angular-portfolio  \n",
       "2                   https://example.com/vue-portfolio  \n",
       "3                https://example.com/python-portfolio  \n",
       "4                  https://example.com/java-portfolio  \n",
       "5               https://example.com/flutter-portfolio  \n",
       "6             https://example.com/wordpress-portfolio  \n",
       "7               https://example.com/magento-portfolio  \n",
       "8          https://example.com/react-native-portfolio  \n",
       "9                   https://example.com/ios-portfolio  \n",
       "10              https://example.com/android-portfolio  \n",
       "11       https://example.com/kotlin-android-portfolio  \n",
       "12           https://example.com/android-tv-portfolio  \n",
       "13               https://example.com/ios-ar-portfolio  \n",
       "14              https://example.com/xamarin-portfolio  \n",
       "15       https://example.com/kotlin-backend-portfolio  \n",
       "16  https://example.com/typescript-frontend-portfolio  \n",
       "17        https://example.com/full-stack-js-portfolio  \n",
       "18            https://example.com/ml-python-portfolio  \n",
       "19               https://example.com/devops-portfolio  "
      ]
     },
     "execution_count": 71,
     "metadata": {},
     "output_type": "execute_result"
    }
   ],
   "source": [
    "import pandas as pd\n",
    "\n",
    "df = pd.read_csv(\"my_portfolio.csv\")\n",
    "df"
   ]
  },
  {
   "cell_type": "code",
   "execution_count": 72,
   "id": "9d4e2938-722e-47d5-8432-703f9c19c462",
   "metadata": {},
   "outputs": [],
   "source": [
    "import uuid\n",
    "import chromadb\n",
    "\n",
    "client = chromadb.PersistentClient('vectorstore')\n",
    "collection = client.get_or_create_collection(name=\"portfolio\")\n",
    "\n",
    "if not collection.count():\n",
    "    for _, row in df.iterrows():\n",
    "        collection.add(documents=row[\"Techstack\"],\n",
    "                       metadatas={\"links\": row[\"Links\"]},\n",
    "                       ids=[str(uuid.uuid4())])"
   ]
  },
  {
   "cell_type": "code",
   "execution_count": 77,
   "id": "c2f5666e-c168-4b94-a8cc-e43aecab0bd6",
   "metadata": {},
   "outputs": [
    {
     "data": {
      "text/plain": [
       "[[{'links': 'https://example.com/typescript-frontend-portfolio'},\n",
       "  {'links': 'https://example.com/vue-portfolio'}],\n",
       " [{'links': 'https://example.com/devops-portfolio'},\n",
       "  {'links': 'https://example.com/xamarin-portfolio'}],\n",
       " [{'links': 'https://example.com/flutter-portfolio'},\n",
       "  {'links': 'https://example.com/vue-portfolio'}],\n",
       " [{'links': 'https://example.com/vue-portfolio'},\n",
       "  {'links': 'https://example.com/full-stack-js-portfolio'}],\n",
       " [{'links': 'https://example.com/android-portfolio'},\n",
       "  {'links': 'https://example.com/magento-portfolio'}],\n",
       " [{'links': 'https://example.com/ml-python-portfolio'},\n",
       "  {'links': 'https://example.com/magento-portfolio'}],\n",
       " [{'links': 'https://example.com/android-portfolio'},\n",
       "  {'links': 'https://example.com/java-portfolio'}]]"
      ]
     },
     "execution_count": 77,
     "metadata": {},
     "output_type": "execute_result"
    }
   ],
   "source": [
    "links = collection.query(query_texts=job['skills'], n_results=2).get('metadatas', [])\n",
    "links\n"
   ]
  },
  {
   "cell_type": "code",
   "execution_count": 74,
   "id": "ba652870-5e60-46ec-87bc-b65aad9b96d0",
   "metadata": {},
   "outputs": [
    {
     "data": {
      "text/plain": [
       "[{'role': 'Administrative Support',\n",
       "  'experience': None,\n",
       "  'skills': None,\n",
       "  'description': None},\n",
       " {'role': 'Advanced Innovation',\n",
       "  'experience': None,\n",
       "  'skills': None,\n",
       "  'description': None},\n",
       " {'role': 'Air Manufacturing Innovation',\n",
       "  'experience': None,\n",
       "  'skills': None,\n",
       "  'description': None},\n",
       " {'role': 'Aviation', 'experience': None, 'skills': None, 'description': None},\n",
       " {'role': 'Communications',\n",
       "  'experience': None,\n",
       "  'skills': None,\n",
       "  'description': None},\n",
       " {'role': 'Customer Service',\n",
       "  'experience': None,\n",
       "  'skills': None,\n",
       "  'description': None},\n",
       " {'role': 'Design', 'experience': None, 'skills': None, 'description': None},\n",
       " {'role': 'Digital', 'experience': None, 'skills': None, 'description': None},\n",
       " {'role': 'Facilities',\n",
       "  'experience': None,\n",
       "  'skills': None,\n",
       "  'description': None},\n",
       " {'role': 'Finance & Accounting',\n",
       "  'experience': None,\n",
       "  'skills': None,\n",
       "  'description': None},\n",
       " {'role': 'Government & Public Affairs',\n",
       "  'experience': None,\n",
       "  'skills': None,\n",
       "  'description': None},\n",
       " {'role': 'Human Resources',\n",
       "  'experience': None,\n",
       "  'skills': None,\n",
       "  'description': None},\n",
       " {'role': 'Insights & Analytics',\n",
       "  'experience': None,\n",
       "  'skills': None,\n",
       "  'description': None},\n",
       " {'role': 'Legal', 'experience': None, 'skills': None, 'description': None},\n",
       " {'role': 'Manufacturing & Engineering',\n",
       "  'experience': None,\n",
       "  'skills': None,\n",
       "  'description': None},\n",
       " {'role': 'Marketing',\n",
       "  'experience': None,\n",
       "  'skills': None,\n",
       "  'description': None},\n",
       " {'role': 'Merchandising',\n",
       "  'experience': None,\n",
       "  'skills': None,\n",
       "  'description': None},\n",
       " {'role': 'Planning', 'experience': None, 'skills': None, 'description': None},\n",
       " {'role': 'Privacy', 'experience': None, 'skills': None, 'description': None},\n",
       " {'role': 'Procurement',\n",
       "  'experience': None,\n",
       "  'skills': None,\n",
       "  'description': None},\n",
       " {'role': 'Product Creation, Development & Management',\n",
       "  'experience': None,\n",
       "  'skills': None,\n",
       "  'description': None},\n",
       " {'role': 'Retail Corporate',\n",
       "  'experience': None,\n",
       "  'skills': None,\n",
       "  'description': None},\n",
       " {'role': 'Retail Stores',\n",
       "  'experience': None,\n",
       "  'skills': None,\n",
       "  'description': None},\n",
       " {'role': 'Sales', 'experience': None, 'skills': None, 'description': None},\n",
       " {'role': 'Social & Community Impact',\n",
       "  'experience': None,\n",
       "  'skills': None,\n",
       "  'description': None},\n",
       " {'role': 'Sports Marketing',\n",
       "  'experience': None,\n",
       "  'skills': None,\n",
       "  'description': None},\n",
       " {'role': 'Strategic Planning',\n",
       "  'experience': None,\n",
       "  'skills': None,\n",
       "  'description': None},\n",
       " {'role': 'Supply Chain, Distribution & Logistics',\n",
       "  'experience': None,\n",
       "  'skills': None,\n",
       "  'description': None},\n",
       " {'role': 'Sustainability',\n",
       "  'experience': None,\n",
       "  'skills': None,\n",
       "  'description': None},\n",
       " {'role': 'Technology',\n",
       "  'experience': None,\n",
       "  'skills': None,\n",
       "  'description': None}]"
      ]
     },
     "execution_count": 74,
     "metadata": {},
     "output_type": "execute_result"
    }
   ],
   "source": [
    "job"
   ]
  },
  {
   "cell_type": "code",
   "execution_count": 75,
   "id": "c74ebc52-484d-4a64-9563-4c50a7dd079b",
   "metadata": {},
   "outputs": [
    {
     "data": {
      "text/plain": [
       "['Front-end frameworks like React, Angular, or Vue.js',\n",
       " 'Cloud architecture, modern DevOps, infrastructure as code, CI/CD and related tools',\n",
       " 'AWS products including Lambda, Step Functions, DynamoDB, Elasticsearch, s3',\n",
       " 'Modern testing methodologies and frameworks such as Mocha, Jasmine and Jest',\n",
       " 'Architectural design patterns and computer-science fundamentals',\n",
       " 'Implementing and integrating AI, Machine Learning and related data solutions',\n",
       " 'Modern software architectural principles and patterns (REST, domain-driven design, microservices, etc)']"
      ]
     },
     "execution_count": 75,
     "metadata": {},
     "output_type": "execute_result"
    }
   ],
   "source": [
    "job = json_res\n",
    "job['skills']"
   ]
  },
  {
   "cell_type": "code",
   "execution_count": 76,
   "id": "0c5e4340-3a2a-45bd-a3b5-9fe98fe28b71",
   "metadata": {},
   "outputs": [
    {
     "name": "stdout",
     "output_type": "stream",
     "text": [
      "Subject: Expert Software Engineering Solutions for Nike's ITC Team\n",
      "\n",
      "Dear Hiring Manager,\n",
      "\n",
      "I came across the job description for a Software Engineer - III, ITC at Nike, and I'm excited to introduce AtliQ, an AI & Software Consulting company that can help fulfill your team's needs. With our expertise in software development, we're confident that we can provide the necessary support to deliver state-of-the-art tools to your product developers and broader creation community.\n",
      "\n",
      "At AtliQ, we have a strong portfolio of projects that demonstrate our capabilities in software engineering. Our team has hands-on experience with front-end frameworks like React, which is showcased in our portfolio: https://example.com/react-portfolio. We also have expertise in cloud architecture, modern DevOps, and infrastructure as code, with experience working with AWS products such as Lambda, Step Functions, DynamoDB, Elasticsearch, and s3.\n",
      "\n",
      "Our team is well-versed in modern testing methodologies and frameworks like Mocha, Jasmine, and Jest, ensuring that our solutions are thoroughly tested and reliable. We're also skilled in architectural design patterns and computer-science fundamentals, allowing us to design and implement scalable and efficient software systems.\n",
      "\n",
      "In addition to our software engineering expertise, we have experience in implementing and integrating AI, Machine Learning, and related data solutions, which can help Nike's ITC team stay ahead of the curve. Our portfolio includes projects that demonstrate our capabilities in machine learning with Python: https://example.com/ml-python-portfolio.\n",
      "\n",
      "I'd love to schedule a call to discuss how AtliQ can support Nike's ITC team in achieving their goals. Please let me know if you're interested, and we can schedule a time that works for you.\n",
      "\n",
      "Best regards,\n",
      "\n",
      "Mohan\n",
      "Business Development Executive\n",
      "AtliQ\n"
     ]
    }
   ],
   "source": [
    "prompt_email = PromptTemplate.from_template(\n",
    "        \"\"\"\n",
    "        ### JOB DESCRIPTION:\n",
    "        {job_description}\n",
    "        \n",
    "        ### INSTRUCTION:\n",
    "        You are Mohan, a business development executive at AtliQ. AtliQ is an AI & Software Consulting company dedicated to facilitating\n",
    "        the seamless integration of business processes through automated tools. \n",
    "        Over our experience, we have empowered numerous enterprises with tailored solutions, fostering scalability, \n",
    "        process optimization, cost reduction, and heightened overall efficiency. \n",
    "        Your job is to write a cold email to the client regarding the job mentioned above describing the capability of AtliQ \n",
    "        in fulfilling their needs.\n",
    "        Also add the most relevant ones from the following links to showcase Atliq's portfolio: {link_list}\n",
    "        Remember you are Mohan, BDE at AtliQ. \n",
    "        Do not provide a preamble.\n",
    "        ### EMAIL (NO PREAMBLE):\n",
    "        \n",
    "        \"\"\"\n",
    "        )\n",
    "\n",
    "chain_email = prompt_email | llm\n",
    "res = chain_email.invoke({\"job_description\": str(job), \"link_list\": links})\n",
    "print(res.content)"
   ]
  },
  {
   "cell_type": "code",
   "execution_count": null,
   "id": "2c975bbe-b7e1-48ef-a667-75909fdbc562",
   "metadata": {},
   "outputs": [],
   "source": []
  }
 ],
 "metadata": {
  "kernelspec": {
   "display_name": "Python 3 (ipykernel)",
   "language": "python",
   "name": "python3"
  },
  "language_info": {
   "codemirror_mode": {
    "name": "ipython",
    "version": 3
   },
   "file_extension": ".py",
   "mimetype": "text/x-python",
   "name": "python",
   "nbconvert_exporter": "python",
   "pygments_lexer": "ipython3",
   "version": "3.13.1"
  }
 },
 "nbformat": 4,
 "nbformat_minor": 5
}
